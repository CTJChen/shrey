{
 "cells": [
  {
   "cell_type": "code",
   "execution_count": 41,
   "metadata": {},
   "outputs": [],
   "source": [
    "import pandas as pd \n",
    "import matplotlib.pyplot as plt\n",
    "import numpy as np\n",
    "from astropy.cosmology import FlatLambdaCDM\n",
    "cos_flat = FlatLambdaCDM(H0=70, Om0=0.3)\n",
    "cos_flat.age\n",
    "df=pd.read_excel('../desktop/sfh.xlsx') # loading in variable df\n"
   ]
  },
  {
   "cell_type": "code",
   "execution_count": 38,
   "metadata": {},
   "outputs": [
    {
     "data": {
      "text/html": [
       "<div>\n",
       "<style scoped>\n",
       "    .dataframe tbody tr th:only-of-type {\n",
       "        vertical-align: middle;\n",
       "    }\n",
       "\n",
       "    .dataframe tbody tr th {\n",
       "        vertical-align: top;\n",
       "    }\n",
       "\n",
       "    .dataframe thead th {\n",
       "        text-align: right;\n",
       "    }\n",
       "</style>\n",
       "<table border=\"1\" class=\"dataframe\">\n",
       "  <thead>\n",
       "    <tr style=\"text-align: right;\">\n",
       "      <th></th>\n",
       "      <th>#Avg_scale_factor</th>\n",
       "      <th>&lt;SFH_all&gt;</th>\n",
       "      <th>Err+</th>\n",
       "      <th>Err-</th>\n",
       "      <th>&lt;SFH_SF&gt;</th>\n",
       "      <th>Err+.1</th>\n",
       "      <th>Err-.1</th>\n",
       "      <th>&lt;SFH_Q&gt;</th>\n",
       "      <th>Err+.2</th>\n",
       "      <th>Err-.2</th>\n",
       "      <th>&lt;SFH_Cen&gt;</th>\n",
       "      <th>Err+.3</th>\n",
       "      <th>Err-.3</th>\n",
       "      <th>&lt;SFH_Sat&gt;</th>\n",
       "      <th>Err+.4</th>\n",
       "      <th>Err-.4</th>\n",
       "      <th>Scale_factor_begin</th>\n",
       "      <th>Scale_factor_end</th>\n",
       "    </tr>\n",
       "  </thead>\n",
       "  <tbody>\n",
       "  </tbody>\n",
       "</table>\n",
       "</div>"
      ],
      "text/plain": [
       "Empty DataFrame\n",
       "Columns: [#Avg_scale_factor, <SFH_all>, Err+, Err-, <SFH_SF>, Err+.1, Err-.1, <SFH_Q>, Err+.2, Err-.2, <SFH_Cen>, Err+.3, Err-.3, <SFH_Sat>, Err+.4, Err-.4, Scale_factor_begin, Scale_factor_end]\n",
       "Index: []"
      ]
     },
     "execution_count": 38,
     "metadata": {},
     "output_type": "execute_result"
    }
   ],
   "source": [
    "df.head(0)"
   ]
  },
  {
   "cell_type": "code",
   "execution_count": 42,
   "metadata": {},
   "outputs": [],
   "source": [
    "df['z_begin'] = 1/df.Scale_factor_begin - 1\n",
    "df['z_end'] = 1/df.Scale_factor_end - 1\n",
    "df['Avg_scale_factor']=(df.Scale_factor_begin+df.Scale_factor_end)/2\n",
    "df['z'] = 1/df.Avg_scale_factor - 1\n",
    "df['age_begin'] = cos_flat.age(z=df.z_begin)*1e9\n",
    "df['age_end'] = cos_flat.age(z=df.z_end)*1e9\n",
    "df['age_avg']=(df['age_begin']+df['age_end'])/2\n",
    "df['age_avg'] = cos_flat.age(z=df.z)*1e9\n",
    "df['time'] = df.age_end - df.age_begin\n",
    "df['mass_sf'] = df['<SFH_all>'] * df.time\n",
    "df['mass_cummulative'] = df.mass_sf.cumsum()\n",
    "df1125 = df.copy(deep=True)"
   ]
  },
  {
   "cell_type": "code",
   "execution_count": 46,
   "metadata": {},
   "outputs": [
    {
     "data": {
      "text/plain": [
       "Text(0, 0.5, 'M*')"
      ]
     },
     "execution_count": 46,
     "metadata": {},
     "output_type": "execute_result"
    },
    {
     "data": {
      "image/png": "[encoded data removed]",
      "text/plain": [
       "<Figure size 432x288 with 1 Axes>"
      ]
     },
     "metadata": {
      "needs_background": "light"
     },
     "output_type": "display_data"
    }
   ],
   "source": [
    "plt.plot(df1125.z,np.log10(df1125.mass_cummulative), label='log Mhalo/Msun=11.25')\n",
    "plt.xlim(0.,10.)\n",
    "plt.ylim(5.,10.)\n",
    "plt.xlabel ('red shift')\n",
    "plt.ylabel('M*')"
   ]
  },
  {
   "cell_type": "code",
   "execution_count": 52,
   "metadata": {},
   "outputs": [
    {
     "data": {
      "text/plain": [
       "(60    8.708903\n",
       " 61    8.731289\n",
       " 62    8.753422\n",
       " 63    8.775344\n",
       " 64    8.797101\n",
       " 65    8.818682\n",
       " 66    8.840145\n",
       " 67    8.861479\n",
       " 68    8.882583\n",
       " 69    8.903553\n",
       " 70    8.924365\n",
       " 71    8.945042\n",
       " 72    8.965620\n",
       " 73    8.986097\n",
       " 74    9.006556\n",
       " 75    9.026934\n",
       " 76    9.047243\n",
       " 77    9.067477\n",
       " 78    9.087598\n",
       " 79    9.107711\n",
       " 80    9.127757\n",
       " 81    9.147831\n",
       " 82    9.167838\n",
       " 83    9.187819\n",
       " 84    9.207678\n",
       " 85    9.227521\n",
       " 86    9.247307\n",
       " 87    9.266963\n",
       " 88    9.286543\n",
       " 89    9.305974\n",
       " 90    9.325331\n",
       " 91    9.344584\n",
       " 92    9.363725\n",
       " 93    9.382704\n",
       " 94    9.401490\n",
       " 95    9.420045\n",
       " 96    9.438392\n",
       " 97    9.456475\n",
       " 98    9.474248\n",
       " 99    9.491738\n",
       " Name: mass_cummulative, dtype: float64, 60    2.292880\n",
       " 61    2.238887\n",
       " 62    2.186642\n",
       " 63    2.136050\n",
       " 64    2.087039\n",
       " 65    2.039541\n",
       " 66    1.993479\n",
       " 67    1.948791\n",
       " 68    1.905418\n",
       " 69    1.863299\n",
       " 70    1.822387\n",
       " 71    1.782632\n",
       " 72    1.743977\n",
       " 73    1.706382\n",
       " 74    1.669803\n",
       " 75    1.634196\n",
       " 76    1.599529\n",
       " 77    1.565767\n",
       " 78    1.532867\n",
       " 79    1.500797\n",
       " 80    1.469532\n",
       " 81    1.439039\n",
       " 82    1.409290\n",
       " 83    1.380261\n",
       " 84    1.351920\n",
       " 85    1.324244\n",
       " 86    1.297213\n",
       " 87    1.270807\n",
       " 88    1.244999\n",
       " 89    1.219768\n",
       " 90    1.195101\n",
       " 91    1.170975\n",
       " 92    1.147374\n",
       " 93    1.124283\n",
       " 94    1.101681\n",
       " 95    1.079553\n",
       " 96    1.057888\n",
       " 97    1.036672\n",
       " 98    1.015887\n",
       " 99    0.995520\n",
       " Name: z, dtype: float64)"
      ]
     },
     "execution_count": 52,
     "metadata": {},
     "output_type": "execute_result"
    }
   ],
   "source": [
    "np.log10(df1125.mass_cummulative)[60:100],df1125.z[60:100]"
   ]
  },
  {
   "cell_type": "code",
   "execution_count": 13,
   "metadata": {},
   "outputs": [
    {
     "name": "stdout",
     "output_type": "stream",
     "text": [
      "\u001b[H\u001b[2J"
     ]
    }
   ],
   "source": [
    "clear"
   ]
  },
  {
   "cell_type": "code",
   "execution_count": 14,
   "metadata": {},
   "outputs": [
    {
     "name": "stdout",
     "output_type": "stream",
     "text": [
      "\u001b[H\u001b[2J"
     ]
    }
   ],
   "source": [
    "clear"
   ]
  },
  {
   "cell_type": "code",
   "execution_count": null,
   "metadata": {},
   "outputs": [],
   "source": []
  }
 ],
 "metadata": {
  "kernelspec": {
   "display_name": "Python 3",
   "language": "python",
   "name": "python3"
  },
  "language_info": {
   "codemirror_mode": {
    "name": "ipython",
    "version": 3
   },
   "file_extension": ".py",
   "mimetype": "text/x-python",
   "name": "python",
   "nbconvert_exporter": "python",
   "pygments_lexer": "ipython3",
   "version": "3.7.4"
  }
 },
 "nbformat": 4,
 "nbformat_minor": 4
}
